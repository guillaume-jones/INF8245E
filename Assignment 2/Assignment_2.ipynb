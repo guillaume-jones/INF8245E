{
 "cells": [
  {
   "cell_type": "markdown",
   "source": [
    "# INF8245E - Assignment 2\n",
    "### Author : Guillaume Jones\n",
    "### Date : 2021-10-24"
   ],
   "metadata": {}
  },
  {
   "cell_type": "markdown",
   "source": [
    "## 1. Linear Classification and Nearest Neighbor Classification"
   ],
   "metadata": {}
  },
  {
   "cell_type": "code",
   "execution_count": 4,
   "source": [
    "# Question 1 : Generate multivariate Gaussian distribution, label and split\r\n",
    "\r\n",
    "import csv\r\n",
    "import numpy as np\r\n",
    "\r\n",
    "parameters_filepath = 'Assignment2_1952504_'\r\n",
    "\r\n",
    "def openArray(filename, transpose=True):\r\n",
    "    # Opens a .csv format file as np array\r\n",
    "    with open(filename) as file:\r\n",
    "        dataset_reader = csv.reader(file)\r\n",
    "        dataset = np.array(list(dataset_reader))\r\n",
    "        if transpose:\r\n",
    "            dataset = np.transpose(dataset)\r\n",
    "            dataset = dataset[:-1] # Removes trailing ',' column\r\n",
    "        else:\r\n",
    "            dataset = dataset[:, :-1] # Removes trailing ',' column\r\n",
    "        return dataset.astype(float)\r\n",
    "\r\n",
    "def saveDataset(filename, array):\r\n",
    "    # Outputs a np array in .csv format\r\n",
    "    # Format is based on Assignment 1 datasets\r\n",
    "    np.savetxt(filename, array, delimiter = ',', fmt='%.11f', newline=',\\n')\r\n",
    "\r\n",
    "def splitBinaryDataset(class1, class2, distribution):\r\n",
    "    # Combines two classes of a binary dataset and splits according to distribution dictionary\r\n",
    "    split_dataset = {}\r\n",
    "    cum_frac = 0\r\n",
    "    class1_len = class1.shape[0]\r\n",
    "    class2_len = class2.shape[0]\r\n",
    "\r\n",
    "    # Since they were generated at random, selecting continuous blocks is ok\r\n",
    "    for (label, fraction) in distribution.items():\r\n",
    "        split_dataset[label] = np.concatenate((\r\n",
    "            class1[int(class1_len * cum_frac) : int(class1_len * (cum_frac + fraction))], \r\n",
    "            class2[int(class2_len * cum_frac) : int(class2_len * (cum_frac + fraction))]))\r\n",
    "        cum_frac += fraction\r\n",
    "    \r\n",
    "    return split_dataset\r\n",
    "\r\n",
    "# Import mean and covariance matrix \r\n",
    "DS1_covariance = openArray('data_params/DS1_Cov.txt')\r\n",
    "DS1_mean0 = openArray('data_params/DS1_m_0.txt')[:, 0]\r\n",
    "DS1_mean1 = openArray('data_params/DS1_m_1.txt')[:, 0]\r\n",
    "\r\n",
    "# Generate distributions and assign labels\r\n",
    "examples = 2000\r\n",
    "distribution = {'train': 0.6, 'valid': 0.2, 'test': 0.2}\r\n",
    "DS1_class0 = np.c_[np.random.multivariate_normal(DS1_mean0, DS1_covariance, examples), -np.ones(examples)]\r\n",
    "DS1_class1 = np.c_[np.random.multivariate_normal(DS1_mean1, DS1_covariance, examples), np.ones(examples)]\r\n",
    "\r\n",
    "# Select train, valid and test examples\r\n",
    "DS1_split = splitBinaryDataset(DS1_class0, DS1_class1, distribution)\r\n",
    "\r\n",
    "# Saves DS1 in same format as Assignment 1 datasets\r\n",
    "for (sectionName, DS1_section) in DS1_split.items():\r\n",
    "    saveDataset('datasets/DS1_' + sectionName + '.txt', DS1_section)"
   ],
   "outputs": [],
   "metadata": {}
  },
  {
   "cell_type": "code",
   "execution_count": 5,
   "source": [
    "# GDA functions\r\n",
    "\r\n",
    "def sigmoid(a):\r\n",
    "    return 1 / (1 + np.exp(-a))\r\n",
    "\r\n",
    "def binaryGDA(x, mean1, mean2, covariance, prior_probability):\r\n",
    "    # Calculate binary GDA probability and return class\r\n",
    "    covarianceInv = np.linalg.inv(covariance)\r\n",
    "    w = np.dot(covarianceInv, (mean1 - mean2))\r\n",
    "    w0 = -0.5 * np.dot(np.transpose(mean1), np.dot(covarianceInv, mean1)) \\\r\n",
    "        + 0.5 * np.dot(np.transpose(mean2), np.dot(covarianceInv, mean2)) \\\r\n",
    "        + np.log(prior_probability)\r\n",
    "    \r\n",
    "    probabilities = sigmoid(np.dot(x, w) + w0)\r\n",
    "    # Applies threshold of 0 (since binary) to probabilities\r\n",
    "    return (probabilities > 0.5).astype(int) * 2 - 1, w0, w\r\n",
    "\r\n",
    "def calculateBinaryGDAParameters(x):\r\n",
    "    # GDA parameters calculated using maximum likelihood equations\r\n",
    "    x1 = x[x[:,-1] == 1, :-1]\r\n",
    "    x2 = x[x[:,-1] == -1, :-1]\r\n",
    "    n1 = x1.shape[0]\r\n",
    "    n2 = x2.shape[0]\r\n",
    "    n = n1 + n2\r\n",
    "\r\n",
    "    mean1 = np.mean(x1, axis=0)\r\n",
    "    mean2 = np.mean(x2, axis=0)\r\n",
    "\r\n",
    "    covariance = 1 / n * np.dot(np.transpose(x1 - mean1), (x1 - mean1)) + 1 / n * np.dot(np.transpose(x2 - mean2), (x2 - mean2))\r\n",
    "\r\n",
    "    prior_probability = n1 / n\r\n",
    "\r\n",
    "    return mean1, mean2, covariance, prior_probability\r\n",
    "\r\n",
    "def classification_accuracy(predicted_y, true_y):\r\n",
    "    # Compare predicted to true and return average as accuracy\r\n",
    "    correct_predictions = (predicted_y == true_y).astype(int)\r\n",
    "    return np.mean(correct_predictions)\r\n",
    "\r\n",
    "def isolateXY(dataset):\r\n",
    "    return dataset[:, :-1], dataset[:, -1]\r\n"
   ],
   "outputs": [],
   "metadata": {}
  },
  {
   "cell_type": "code",
   "execution_count": 6,
   "source": [
    "# Question 2 : GDA on DS1\r\n",
    "\r\n",
    "DS1_train = openArray('datasets/DS1_train.txt', transpose=False)\r\n",
    "DS1_valid = openArray('datasets/DS1_valid.txt', transpose=False)\r\n",
    "DS1_test = openArray('datasets/DS1_test.txt', transpose=False)\r\n",
    "\r\n",
    "DS1_test_x, DS1_test_y = isolateXY(DS1_test)\r\n",
    "DS1_train_x, DS1_train_y = isolateXY(DS1_train)\r\n",
    "DS1_valid_x, DS1_valid_y = isolateXY(DS1_valid)\r\n",
    "\r\n",
    "DS1_m1, DS1_m2, DS1_cov, DS1_pp = calculateBinaryGDAParameters(DS1_train)\r\n",
    "\r\n",
    "DS1_GDA_test_predictions, DS1_w0, DS1_w = binaryGDA(DS1_test_x, DS1_m1, DS1_m2, DS1_cov, DS1_pp)\r\n",
    "\r\n",
    "DS1_GDA_test_accuracy = classification_accuracy(DS1_GDA_test_predictions, DS1_test_y)\r\n",
    "print(f'DS1 accuracy with GDA: {DS1_GDA_test_accuracy:.2%}')\r\n",
    "\r\n",
    "DS1_coefficients = np.insert(DS1_w, 0, DS1_w0)\r\n",
    "saveDataset(parameters_filepath + '1_2.txt', DS1_coefficients)"
   ],
   "outputs": [
    {
     "output_type": "stream",
     "name": "stdout",
     "text": [
      "DS1 accuracy with GDA: 96.38%\n"
     ]
    }
   ],
   "metadata": {}
  },
  {
   "cell_type": "code",
   "execution_count": 70,
   "source": [
    "# k-NN functions\r\n",
    "\r\n",
    "from scipy import stats\r\n",
    "import matplotlib.pyplot as plt\r\n",
    "\r\n",
    "def knn(new_x, train_x, train_y, ks):\r\n",
    "    # Returns k-nn calculated class\r\n",
    "    new_x_t = new_x[:, np.newaxis]\r\n",
    "    difference = np.subtract(train_x, new_x_t)\r\n",
    "    distances = np.einsum('ij,ij->j', difference, difference)\r\n",
    "\r\n",
    "    predictions = []\r\n",
    "    sorted_distances_indexes = np.argsort(distances, axis=0)\r\n",
    "    for k in ks:\r\n",
    "        predictions.append(stats.mode(train_y[sorted_distances_indexes[:k]])[0][0])\r\n",
    "    return predictions\r\n",
    "\r\n",
    "def batch_knn(new_x_batch_t, new_x_batch_2, train_x, train_x_2, train_y, ks):\r\n",
    "    distances = np.dot(train_x, new_x_batch_t) * -2\r\n",
    "    distances = distances + new_x_batch_2[np.newaxis, :] + train_x_2[:, np.newaxis]\r\n",
    "    \r\n",
    "    sorted_distances_indexes = np.argsort(distances, axis=0)\r\n",
    "\r\n",
    "    predictions = np.empty((0, new_x_batch_t.shape[1]))\r\n",
    "    for k in ks:\r\n",
    "        modes = stats.mode(train_y[sorted_distances_indexes[:k, :]], axis=0)[0][0][np.newaxis, :]\r\n",
    "        predictions = np.concatenate((predictions, modes))\r\n",
    "    return np.transpose(predictions)\r\n",
    "\r\n",
    "\r\n",
    "def knn_predictions(new_x_set, train_x, train_y, ks, batch_size=100):\r\n",
    "    # Applies binary knn to entire dataset of x values\r\n",
    "    train_x_2 = np.sum(train_x**2, axis = 1)\r\n",
    "\r\n",
    "    new_x_predictions = np.empty((0, len(ks)))\r\n",
    "    i = 0\r\n",
    "    for i in np.arange(0, new_x_set.shape[0], batch_size):\r\n",
    "        new_x_batch = new_x_set[i : i+batch_size]\r\n",
    "        new_x_batch_2 = np.sum(new_x_batch**2, axis = 1)\r\n",
    "        new_x_batch_t = np.transpose(new_x_batch)\r\n",
    "\r\n",
    "\r\n",
    "        batch_predictions = batch_knn(new_x_batch_t, new_x_batch_2, train_x, train_x_2, train_y, ks)\r\n",
    "        new_x_predictions = np.concatenate((new_x_predictions, batch_predictions))\r\n",
    "    return new_x_predictions\r\n",
    "\r\n",
    "\r\n",
    "\r\n",
    "def validateDifferentK(train_x, train_y, valid_x, valid_y, ks, batch_size=100):\r\n",
    "    valid_accuracies = {}\r\n",
    "    best_k = 0\r\n",
    "    best_accuracy = 0\r\n",
    "    valid_predictions = knn_predictions(valid_x, train_x, train_y, ks, batch_size)\r\n",
    "\r\n",
    "    for index, k in enumerate(ks):\r\n",
    "        valid_accuracies[k] = classification_accuracy(valid_predictions[:, index], valid_y)\r\n",
    "        if valid_accuracies[k] > best_accuracy:\r\n",
    "            best_accuracy = valid_accuracies[k]\r\n",
    "            best_k = k\r\n",
    "    return valid_accuracies, best_k\r\n",
    "\r\n",
    "def plotAccuracyAgainstK(k_accuracies):\r\n",
    "    plt.figure(figsize=(10, 5))\r\n",
    "    plt.plot(k_accuracies.keys(), k_accuracies.values())\r\n",
    "    plt.xlabel('k')\r\n",
    "    plt.ylabel('Validation accuracy')\r\n",
    "    plt.show()"
   ],
   "outputs": [],
   "metadata": {}
  },
  {
   "cell_type": "code",
   "execution_count": 73,
   "source": [
    "# Question 3 : k-NN on DS1\r\n",
    "\r\n",
    "k_values = list(np.arange(1, 100, 2)) + list(np.arange(100, 400, 5)) + list(np.arange(400, 801, 10))\r\n",
    "DS1_knn_valid_accuracies, DS1_best_k = validateDifferentK(DS1_train_x, DS1_train_y, DS1_valid_x, DS1_valid_y, k_values, 800)\r\n",
    "\r\n",
    "plotAccuracyAgainstK(DS1_knn_valid_accuracies)\r\n",
    "\r\n",
    "print(f'DS1 best k: {DS1_best_k}')\r\n",
    "\r\n",
    "DS1_knn_test_accuracy = classification_accuracy(knn_predictions(DS1_test_x, DS1_train_x, DS1_train_y, [DS1_best_k], 800)[:, 0], DS1_test_y)\r\n",
    "\r\n",
    "print(f'DS1 best accuracy with k-nn, k={DS1_best_k}: {DS1_knn_test_accuracy:.2%}')"
   ],
   "outputs": [
    {
     "output_type": "display_data",
     "data": {
      "image/png": "[encoded data removed]",
      "text/plain": [
       "<Figure size 720x360 with 1 Axes>"
      ]
     },
     "metadata": {
      "needs_background": "light"
     }
    },
    {
     "output_type": "stream",
     "name": "stdout",
     "text": [
      "DS1 best k: 195\n",
      "DS1 best accuracy with k-nn, k=195: 55.75%\n"
     ]
    }
   ],
   "metadata": {}
  },
  {
   "cell_type": "code",
   "execution_count": 24,
   "source": [
    "# Question 4 : Generate mixed multivariate Gaussian dataset DS2, label and split\r\n",
    "\r\n",
    "def generateMixedMultiGaussian(means, covariances, probabilities, n):\r\n",
    "    # Generates samples from mixed multivariate gaussians\r\n",
    "    samples = np.empty((0, 20))\r\n",
    "    # Adds n*probability samples of each multivariate gaussian to samples[]\r\n",
    "    for mean, covariance, probability in zip(means, covariances, probabilities):\r\n",
    "        generated = np.random.multivariate_normal(mean, covariance, int(n * probability))\r\n",
    "        samples = np.concatenate((samples, generated))\r\n",
    "\r\n",
    "    return samples\r\n",
    "\r\n",
    "DS2_covariances = []\r\n",
    "DS2_means1 = []\r\n",
    "DS2_means2 = []\r\n",
    "\r\n",
    "# Import mean and covariance matrices for both classes and all 3 Gaussians\r\n",
    "for i in range(1, 4):\r\n",
    "    DS2_covariances.append(openArray(f'data_params/DS2_Cov{i}.txt'))\r\n",
    "    DS2_means1.append(openArray(f'data_params/DS2_c1_m{i}.txt')[:, 0])\r\n",
    "    DS2_means2.append(openArray(f'data_params/DS2_c2_m{i}.txt')[:, 0])\r\n",
    "\r\n",
    "# Generate mixed multivariate gaussian distributions\r\n",
    "probabilities = [0.1, 0.42, 0.48]\r\n",
    "DS2_class1 = np.c_[generateMixedMultiGaussian(DS2_means1, DS2_covariances, probabilities, examples), -np.ones(examples)]\r\n",
    "DS2_class2 = np.c_[generateMixedMultiGaussian(DS2_means2, DS2_covariances, probabilities, examples), np.ones(examples)]\r\n",
    "\r\n",
    "# Split into train, valid, test with same proportions as before\r\n",
    "DS2_split = splitBinaryDataset(DS2_class1, DS2_class2, distribution)\r\n",
    "\r\n",
    "# Saves DS2 in same format as Assignment 1 datasets\r\n",
    "for (sectionName, DS2_section) in DS2_split.items():\r\n",
    "    saveDataset(f'datasets/DS2_{sectionName}.txt', DS2_section)"
   ],
   "outputs": [],
   "metadata": {}
  },
  {
   "cell_type": "code",
   "execution_count": 25,
   "source": [
    "# Question 5.1 : GDA on DS2\r\n",
    "\r\n",
    "DS2_train = openArray('datasets/DS2_train.txt', transpose=False)\r\n",
    "DS2_valid = openArray('datasets/DS2_valid.txt', transpose=False)\r\n",
    "DS2_test = openArray('datasets/DS2_test.txt', transpose=False)\r\n",
    "\r\n",
    "DS2_train_x, DS2_train_y = isolateXY(DS2_train)\r\n",
    "DS2_test_x, DS2_test_y = isolateXY(DS2_test)\r\n",
    "DS2_valid_x, DS2_valid_y = isolateXY(DS2_valid)\r\n",
    "\r\n",
    "DS2_m1, DS2_m2, DS2_cov, DS2_pp = calculateBinaryGDAParameters(DS2_train)\r\n",
    "\r\n",
    "DS2_GDA_test_predictions, DS2_w0, DS2_w = binaryGDA(DS2_test_x, DS2_m1, DS2_m2, DS2_cov, DS2_pp)\r\n",
    "DS2_GDA_test_accuracy = classification_accuracy(DS2_GDA_test_predictions, DS2_test_y)\r\n",
    "print(f'DS2 accuracy with GDA: {DS2_GDA_test_accuracy:.2%}')\r\n",
    "\r\n",
    "DS2_coefficients = np.insert(DS2_w, 0, DS2_w0)\r\n",
    "saveDataset(parameters_filepath + '1_5_1.txt', DS2_coefficients)"
   ],
   "outputs": [
    {
     "output_type": "stream",
     "name": "stdout",
     "text": [
      "DS2 accuracy with GDA: 49.75%\n"
     ]
    }
   ],
   "metadata": {}
  },
  {
   "cell_type": "code",
   "execution_count": 74,
   "source": [
    "# Question 5.2 : k-nn on DS2\r\n",
    "\r\n",
    "k_values = list(np.arange(1, 100, 2)) + list(np.arange(100, 400, 5)) + list(np.arange(400, 801, 10))\r\n",
    "DS2_knn_valid_accuracies, DS2_best_k = validateDifferentK(DS2_train_x, DS2_train_y, DS2_valid_x, DS2_valid_y, k_values, 800)\r\n",
    "\r\n",
    "plotAccuracyAgainstK(DS2_knn_valid_accuracies)\r\n",
    "\r\n",
    "print(f'DS2 best k on validation set: {DS2_best_k}')\r\n",
    "\r\n",
    "DS2_knn_predictions = knn_predictions(DS2_test_x, DS2_train_x, DS2_train_y, [DS1_best_k])[:, 0]\r\n",
    "DS2_knn_test_accuracy = classification_accuracy(DS2_knn_predictions, DS2_test_y)\r\n",
    "\r\n",
    "print(f'DS2 best test accuracy with k-nn, k={DS2_best_k}: {DS2_knn_test_accuracy:.2%}')"
   ],
   "outputs": [
    {
     "output_type": "display_data",
     "data": {
      "image/png": "[encoded data removed]",
      "text/plain": [
       "<Figure size 720x360 with 1 Axes>"
      ]
     },
     "metadata": {
      "needs_background": "light"
     }
    },
    {
     "output_type": "stream",
     "name": "stdout",
     "text": [
      "DS2 best k on validation set: 1\n",
      "DS2 best test accuracy with k-nn, k=1: 44.88%\n"
     ]
    }
   ],
   "metadata": {}
  },
  {
   "cell_type": "markdown",
   "source": [
    "## 2. MNIST Handwritten Digits Classification"
   ],
   "metadata": {}
  },
  {
   "cell_type": "code",
   "execution_count": 1,
   "source": [
    "# Import Keras\r\n",
    "from tensorflow import keras\r\n",
    "# Loading the mnist dataset\r\n",
    "(mnist_train_valid_x, mnist_train_valid_y), (mnist_test_x, mnist_test_y) = keras.datasets.mnist.load_data()\r\n",
    "\r\n",
    "# Flatten to 784 features\r\n",
    "mnist_train_valid_x = mnist_train_valid_x.reshape(mnist_train_valid_x.shape[0], -1)\r\n",
    "mnist_test_x = mnist_test_x.reshape(mnist_test_x.shape[0], -1)\r\n",
    "\r\n",
    "# Normalize to [0, 1]\r\n",
    "mnist_train_valid_x = mnist_train_valid_x / 255.0\r\n",
    "mnist_test_x = mnist_test_x / 255.0\r\n",
    "\r\n",
    "# Split train/valid\r\n",
    "mnist_train_x = mnist_train_valid_x[:50000]\r\n",
    "mnist_valid_x = mnist_train_valid_x[50000:]\r\n",
    "mnist_train_y = mnist_train_valid_y[:50000]\r\n",
    "mnist_valid_y = mnist_train_valid_y[50000:]"
   ],
   "outputs": [
    {
     "output_type": "stream",
     "name": "stdout",
     "text": [
      "Downloading data from https://storage.googleapis.com/tensorflow/tf-keras-datasets/mnist.npz\n",
      "11493376/11490434 [==============================] - 1s 0us/step\n",
      "11501568/11490434 [==============================] - 1s 0us/step\n"
     ]
    }
   ],
   "metadata": {}
  },
  {
   "cell_type": "code",
   "execution_count": 31,
   "source": [
    "# Question 1: GNB on MNIST dataset\r\n",
    "\r\n",
    "def softmax(x_vector):\r\n",
    "    return np.exp(x_vector) / np.sum(np.exp(x_vector))\r\n",
    "\r\n",
    "def multiGNB(all_x, all_means, all_variances, all_prior_probabilities, all_sizes):\r\n",
    "    # Returns most likely classes using GNB assumptions\r\n",
    "\r\n",
    "    all_probabilities = np.empty((all_x.shape[0], 0))\r\n",
    "    # Iterates through each class\r\n",
    "    for class_means, class_variances, pp, class_size in zip(all_means, all_variances, all_prior_probabilities, all_sizes):\r\n",
    "        stds = np.sqrt(class_variances)\r\n",
    "        smoothing_add = 1 / class_size\r\n",
    "        smoothing_multiply = 0.002 * (1 - smoothing_add)\r\n",
    "\r\n",
    "        class_probabilities = np.full(all_x.shape[0], np.log(pp))\r\n",
    "        # Iterates through all features to obtain distributions\r\n",
    "        for index, (mean, std) in enumerate(zip(class_means, stds)):\r\n",
    "            if std == 0:\r\n",
    "                # If variance is 0, uses uniform distribution \r\n",
    "                # This gives 1 for x ~= mean, and Laplace smoothing elsewhere\r\n",
    "                class_probabilities += np.log((stats.uniform(mean - 0.001, 0.002).pdf(all_x[:, index])*smoothing_multiply + smoothing_add))\r\n",
    "            else:\r\n",
    "                # Using log() to prevent underflow/overflow on multiplication\r\n",
    "                # Tiny value to prevent log(0) in certain cases\r\n",
    "                class_probabilities += np.log(stats.norm(mean, std).pdf(all_x[:, index]))\r\n",
    "        \r\n",
    "        all_probabilities = np.c_[all_probabilities, class_probabilities]\r\n",
    "        \r\n",
    "    return np.argmax(all_probabilities, axis=1)\r\n",
    "\r\n",
    "\r\n",
    "def calculateMultiGNBParameters(separated_x, n):\r\n",
    "    # Calculates GNB parameters for multi-class prediction\r\n",
    "    # separated_x is list of ndarray with shape (#samples, #features)\r\n",
    "    # each ndarray contains elements of only 1 class\r\n",
    "    means = []\r\n",
    "    covariances = []\r\n",
    "    prior_probabilities = []\r\n",
    "    class_sizes = []\r\n",
    "    for x_class in separated_x:\r\n",
    "        n_class = x_class.shape[0]\r\n",
    "        class_sizes.append(n_class)\r\n",
    "\r\n",
    "        means.append(np.mean(x_class, axis=0))\r\n",
    "        covariance = np.var(x_class, axis=0)\r\n",
    "        covariances.append(covariance)\r\n",
    "        \r\n",
    "        prior_probabilities.append(n_class / n)\r\n",
    "\r\n",
    "    return means, covariances, prior_probabilities, class_sizes\r\n",
    "\r\n",
    "def separateClasses(x, y):\r\n",
    "    # Splits dataset according to classes\r\n",
    "    class_labels = np.unique(y)\r\n",
    "    separated_x = []\r\n",
    "    for label in class_labels:\r\n",
    "        separated_x.append(x[y[:] == label, :])\r\n",
    "\r\n",
    "    return separated_x\r\n"
   ],
   "outputs": [],
   "metadata": {}
  },
  {
   "cell_type": "code",
   "execution_count": 30,
   "source": [
    "mnist_train_x_sep = separateClasses(mnist_train_x, mnist_train_y)\r\n",
    "mnist_means, mnist_variances, mnist_pp, mnist_class_sizes = calculateMultiGNBParameters(mnist_train_x_sep, 50000)\r\n",
    "\r\n",
    "mnist_gnb_predictions = multiGNB(mnist_test_x, mnist_means, mnist_variances, mnist_pp, mnist_class_sizes)\r\n",
    "\r\n",
    "mnist_accuracy = classification_accuracy(mnist_gnb_predictions, mnist_test_y)\r\n",
    "print(f'GNB accuracy on MNIST: {mnist_accuracy:.2%}')"
   ],
   "outputs": [
    {
     "output_type": "stream",
     "name": "stderr",
     "text": [
      "C:\\Users\\guill\\AppData\\Local\\Temp/ipykernel_10476/1959398386.py:26: RuntimeWarning: divide by zero encountered in log\n",
      "  class_probabilities += np.log(stats.norm(mean, std).pdf(all_x[:, index]))\n"
     ]
    },
    {
     "output_type": "stream",
     "name": "stdout",
     "text": [
      "GNB accuracy on MNIST: 77.56%\n"
     ]
    }
   ],
   "metadata": {}
  },
  {
   "cell_type": "code",
   "execution_count": 80,
   "source": [
    "# Question 2 : k-nn on MNIST\r\n",
    "\r\n",
    "k_values = list(np.arange(1, 10, 1)) + list(np.arange(10, 20, 5)) + list(np.arange(20, 80, 10)) + list(np.arange(100,1001, 100))\r\n",
    "mnist_knn_valid_accuracies, mnist_best_k = validateDifferentK(\r\n",
    "    mnist_train_x[:], mnist_train_y[:], \r\n",
    "    mnist_valid_x[:], mnist_valid_y[:], k_values, 2000)\r\n",
    "\r\n",
    "plotAccuracyAgainstK(mnist_knn_valid_accuracies)\r\n",
    "\r\n",
    "print(f'MNIST best k on validation set: {mnist_best_k}')"
   ],
   "outputs": [
    {
     "output_type": "display_data",
     "data": {
      "image/png": "[encoded data removed]",
      "text/plain": [
       "<Figure size 720x360 with 1 Axes>"
      ]
     },
     "metadata": {
      "needs_background": "light"
     }
    },
    {
     "output_type": "stream",
     "name": "stdout",
     "text": [
      "MNIST best k on validation set: 4\n"
     ]
    }
   ],
   "metadata": {}
  },
  {
   "cell_type": "code",
   "execution_count": 81,
   "source": [
    "mnist_knn_predictions = knn_predictions(mnist_test_x, mnist_train_x[:], mnist_train_y[:], [mnist_best_k], 2000)[:, 0]\r\n",
    "mnist_knn_test_accuracy = classification_accuracy(mnist_knn_predictions, mnist_test_y)\r\n",
    "\r\n",
    "print(f'MNIST best test accuracy with k-nn, k={mnist_best_k}: {mnist_knn_test_accuracy:.2%}')"
   ],
   "outputs": [
    {
     "output_type": "stream",
     "name": "stdout",
     "text": [
      "MNIST best test accuracy with k-nn, k=4: 96.58%\n"
     ]
    }
   ],
   "metadata": {}
  }
 ],
 "metadata": {
  "interpreter": {
   "hash": "2200d743b53332f655a8ce9f985894aa6cf8fb4b980bb0b4845723d305f67b11"
  },
  "kernelspec": {
   "name": "python3",
   "display_name": "Python 3.9.7 64-bit"
  },
  "language_info": {
   "codemirror_mode": {
    "name": "ipython",
    "version": 3
   },
   "file_extension": ".py",
   "mimetype": "text/x-python",
   "name": "python",
   "nbconvert_exporter": "python",
   "pygments_lexer": "ipython3",
   "version": "3.9.7"
  },
  "orig_nbformat": 4
 },
 "nbformat": 4,
 "nbformat_minor": 2
}