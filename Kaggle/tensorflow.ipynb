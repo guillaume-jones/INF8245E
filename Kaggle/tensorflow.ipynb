{
 "cells": [
  {
   "cell_type": "code",
   "execution_count": 1,
   "metadata": {},
   "outputs": [],
   "source": [
    "import os\n",
    "import tensorflow as tf\n",
    "import keras_tuner as kt\n",
    "import tensorflow.keras as keras\n",
    "import numpy as np\n",
    "import matplotlib.pyplot as plt\n",
    "import pandas as pd"
   ]
  },
  {
   "cell_type": "markdown",
   "metadata": {},
   "source": [
    "## MNIST example"
   ]
  },
  {
   "cell_type": "code",
   "execution_count": null,
   "metadata": {},
   "outputs": [],
   "source": [
    "# MNIST example from TensorFlow tutorials\n",
    "mnist = keras.datasets.mnist\n",
    "\n",
    "# Load and scale data\n",
    "(mnist_train_x, mnist_train_y), (mnist_test_x, mnist_test_y) = mnist.load_data()\n",
    "mnist_train_x, mnist_test_x = mnist_train_x / 255.0, mnist_test_x / 255.0\n",
    "\n",
    "# Creat simple NN\n",
    "mnist_model = keras.models.Sequential([\n",
    "  keras.layers.Flatten(input_shape=(28, 28)),\n",
    "  keras.layers.Dense(512, activation='relu'),\n",
    "  keras.layers.Dropout(0.2),\n",
    "  keras.layers.Dense(10)\n",
    "])\n",
    "\n",
    "# Loss function\n",
    "loss_fn = keras.losses.SparseCategoricalCrossentropy(from_logits=True)\n",
    "\n",
    "# Compile model\n",
    "mnist_model.compile(\n",
    "    optimizer=keras.optimizers.Adam(),\n",
    "    loss=loss_fn,\n",
    "    metrics=['accuracy'])\n",
    "\n",
    "# Fit model\n",
    "mnist_history = mnist_model.fit(mnist_train_x, mnist_train_y, epochs=4, verbose=1)\n",
    "\n",
    "# Test model \n",
    "mnist_model.evaluate(mnist_test_x, mnist_test_y)"
   ]
  },
  {
   "cell_type": "markdown",
   "metadata": {},
   "source": [
    "## MPG example"
   ]
  },
  {
   "cell_type": "code",
   "execution_count": null,
   "metadata": {},
   "outputs": [],
   "source": [
    "# MPG example from TensorFlow tutorials\n",
    "\n",
    "# Make NumPy printouts easier to read.\n",
    "np.set_printoptions(precision=3, suppress=True)\n",
    "\n",
    "# Load dataset, remove rows with missing info\n",
    "url = 'http://archive.ics.uci.edu/ml/machine-learning-databases/auto-mpg/auto-mpg.data'\n",
    "column_names = ['MPG', 'Cylinders', 'Displacement', 'Horsepower', 'Weight',\n",
    "                'Acceleration', 'Model Year', 'Origin']\n",
    "dataset = pd.read_csv(url, names=column_names,\n",
    "                          na_values='?', comment='\\t',\n",
    "                          sep=' ', skipinitialspace=True).dropna()\n",
    "dataset['Origin'] = dataset['Origin'].map({1: 'USA', 2: 'Europe', 3: 'Japan'})\n",
    "\n",
    "# Convert Origin to one-hot\n",
    "dataset = pd.get_dummies(dataset, columns=['Origin'], prefix='', prefix_sep='')\n",
    "\n",
    "# Split train/test and split labels\n",
    "mpg_train_x = dataset.sample(frac=0.8, random_state=0)\n",
    "mpg_test_x = dataset.drop(mpg_train_x.index)\n",
    "mpg_train_y = mpg_train_x.pop('MPG')\n",
    "mpg_test_y = mpg_test_x.pop('MPG')\n",
    "\n",
    "# Scale data\n",
    "mpg_norm = keras.layers.Normalization(axis=-1)\n",
    "mpg_norm.adapt(np.array(mpg_train_x))\n",
    "\n",
    "# Build model\n",
    "def build_and_compile_model(normalization):\n",
    "  model = keras.Sequential([\n",
    "      normalization,\n",
    "      keras.layers.Dense(512, activation='relu', kernel_regularizer=keras.regularizers.l2(0.0001)),\n",
    "      keras.layers.Dropout(0.1),\n",
    "      keras.layers.Dense(512, activation='relu', kernel_regularizer=keras.regularizers.l2(0.0001)),\n",
    "      keras.layers.Dense(1)\n",
    "  ])\n",
    "\n",
    "  model.compile(loss='mean_absolute_error',\n",
    "                optimizer=keras.optimizers.Adam())\n",
    "  return model\n",
    "\n",
    "mpg_model = build_and_compile_model(mpg_norm)\n",
    "\n",
    "# Early stopping\n",
    "callbacks = [\n",
    "  keras.callbacks.EarlyStopping(monitor='val_loss', patience=30),\n",
    "]\n",
    "mpg_model_history = mpg_model.fit(mpg_train_x, mpg_train_y, validation_split=0.1, epochs=1000, callbacks=callbacks, verbose=0)\n",
    "mpg_model.evaluate(mpg_test_x, mpg_test_y, verbose=2)\n",
    "\n",
    "def plot_loss(history):\n",
    "  plt.plot(history.history['loss'], label='loss')\n",
    "  plt.plot(history.history['val_loss'], label='val_loss')\n",
    "  plt.ylim([0, 10])\n",
    "  plt.xlabel('Epoch')\n",
    "  plt.ylabel('Error [MPG]')\n",
    "  plt.legend()\n",
    "  plt.grid(True)\n",
    "\n",
    "plot_loss(mpg_model_history)"
   ]
  },
  {
   "cell_type": "markdown",
   "metadata": {},
   "source": [
    "## Fashion MNIST example"
   ]
  },
  {
   "cell_type": "code",
   "execution_count": 2,
   "metadata": {},
   "outputs": [
    {
     "name": "stdout",
     "output_type": "stream",
     "text": [
      "Total train set length: 60000\n"
     ]
    }
   ],
   "source": [
    "# Fashion MNIST example TensorFlow tutorials\n",
    "\n",
    "# Load dataset\n",
    "(fashion_train_x, fashion_train_label), (fashion_test_x, fashion_test_label) = keras.datasets.fashion_mnist.load_data()\n",
    "\n",
    "fashion_train_x = fashion_train_x.astype('float32') / 255.0\n",
    "fashion_test_x = fashion_test_x.astype('float32') / 255.0\n",
    "\n",
    "print(f'Total train set length: {len(fashion_train_label)}')\n",
    "# Create a dataset and batch into 1000 \n",
    "fashion_dataset = tf.data.Dataset.from_tensor_slices((fashion_train_x, fashion_train_label))\n",
    "fashion_dataset = fashion_dataset.batch(100, drop_remainder=True)"
   ]
  },
  {
   "cell_type": "code",
   "execution_count": 7,
   "metadata": {},
   "outputs": [
    {
     "name": "stdout",
     "output_type": "stream",
     "text": [
      "INFO:tensorflow:Reloading Oracle from existing project models\\fashion_tutorial\\oracle.json\n",
      "INFO:tensorflow:Reloading Tuner from models\\fashion_tutorial\\tuner0.json\n"
     ]
    }
   ],
   "source": [
    "class FashionHyperModel(kt.HyperModel):\n",
    "    def build(self, hyperparameters):\n",
    "        # Build model architecture\n",
    "        model = keras.Sequential()\n",
    "        model.add(keras.layers.Flatten())\n",
    "        model.add(keras.layers.Dense(\n",
    "            hyperparameters.Choice('units', values=[32, 64, 128, 256, 512]), \n",
    "            activation='relu'))\n",
    "        model.add(keras.layers.Dense(10))\n",
    "\n",
    "        # Tune learning rate\n",
    "        learning_rate = hyperparameters.Choice('learning_rate', values=[1e-2, 1e-3, 1e-4])\n",
    "\n",
    "        # Create model\n",
    "        model.compile(\n",
    "            optimizer=keras.optimizers.Nadam(\n",
    "                hyperparameters.Choice('learning_rate', values=[1e-2, 1e-3, 1e-4])),\n",
    "            loss=keras.losses.SparseCategoricalCrossentropy(from_logits=True),\n",
    "            metrics=['accuracy'])\n",
    "\n",
    "        return model\n",
    "\n",
    "# Create tuner\n",
    "tuner = kt.Hyperband(FashionHyperModel(),\n",
    "                     objective='val_accuracy',\n",
    "                     max_epochs=10,\n",
    "                     directory='models',\n",
    "                     project_name='fashion_tutorial',\n",
    "                     factor=3)\n",
    "\n",
    "tuner.reload()"
   ]
  },
  {
   "cell_type": "code",
   "execution_count": null,
   "metadata": {},
   "outputs": [],
   "source": [
    "# Tuning hyperparameters. Does not need to run again if model is saved under models/fashion_tutorial\n",
    "\n",
    "# Early stopping criterion\n",
    "stop_early = tf.keras.callbacks.EarlyStopping(monitor='val_accuracy', patience=4)\n",
    "\n",
    "tuner.search(fashion_train_x, fashion_train_label, epochs=50, validation_split=0.2, callbacks=[stop_early])"
   ]
  },
  {
   "cell_type": "code",
   "execution_count": 8,
   "metadata": {},
   "outputs": [
    {
     "name": "stdout",
     "output_type": "stream",
     "text": [
      "Optimal number of units in first Dense() layer is 128\n",
      "Optimal learning rate for the optimizer is 0.001\n",
      "Epoch 1/10\n",
      "1500/1500 [==============================] - 13s 8ms/step - loss: 0.5118 - accuracy: 0.8205 - val_loss: 0.4372 - val_accuracy: 0.8428\n",
      "Epoch 2/10\n",
      "1500/1500 [==============================] - 10s 7ms/step - loss: 0.3786 - accuracy: 0.8646 - val_loss: 0.3768 - val_accuracy: 0.8655\n",
      "Epoch 3/10\n",
      "1500/1500 [==============================] - 10s 6ms/step - loss: 0.3378 - accuracy: 0.8777 - val_loss: 0.3525 - val_accuracy: 0.8752\n",
      "Epoch 4/10\n",
      "1500/1500 [==============================] - 10s 6ms/step - loss: 0.3129 - accuracy: 0.8862 - val_loss: 0.3548 - val_accuracy: 0.8719\n",
      "Epoch 5/10\n",
      "1500/1500 [==============================] - 10s 7ms/step - loss: 0.2931 - accuracy: 0.8915 - val_loss: 0.3404 - val_accuracy: 0.8808\n",
      "Epoch 6/10\n",
      "1500/1500 [==============================] - 10s 7ms/step - loss: 0.2789 - accuracy: 0.8977 - val_loss: 0.3322 - val_accuracy: 0.8848\n",
      "Epoch 7/10\n",
      "1500/1500 [==============================] - 10s 7ms/step - loss: 0.2667 - accuracy: 0.9019 - val_loss: 0.3245 - val_accuracy: 0.8833\n",
      "Epoch 8/10\n",
      "1500/1500 [==============================] - 11s 7ms/step - loss: 0.2552 - accuracy: 0.9057 - val_loss: 0.3266 - val_accuracy: 0.8853\n",
      "Epoch 9/10\n",
      "1500/1500 [==============================] - 10s 6ms/step - loss: 0.2445 - accuracy: 0.9104 - val_loss: 0.3063 - val_accuracy: 0.8901\n",
      "Epoch 10/10\n",
      "1500/1500 [==============================] - 11s 7ms/step - loss: 0.2351 - accuracy: 0.9130 - val_loss: 0.3241 - val_accuracy: 0.8864\n",
      "313/313 [==============================] - 1s 4ms/step - loss: 0.3513 - accuracy: 0.8764\n",
      "[test loss, test accuracy]: [0.35126960277557373, 0.8763999938964844]\n"
     ]
    }
   ],
   "source": [
    "# Get the optimal hyperparameters\n",
    "best_hps = tuner.get_best_hyperparameters(num_trials=1)[0]\n",
    "print(f'Optimal number of units in first Dense() layer is {best_hps.get(\"units\")}')\n",
    "print(f'Optimal learning rate for the optimizer is {best_hps.get(\"learning_rate\")}')\n",
    "\n",
    "# Retrain the model with best hyperparameters\n",
    "hypermodel = tuner.hypermodel.build(best_hps)\n",
    "hypermodel.fit(fashion_train_x, fashion_train_label, epochs=10, validation_split=0.2)\n",
    "\n",
    "# Evaluate on test data\n",
    "eval_result = hypermodel.evaluate(fashion_test_x, fashion_test_label)\n",
    "print(\"[test loss, test accuracy]:\", eval_result)"
   ]
  }
 ],
 "metadata": {
  "interpreter": {
   "hash": "7beeab9d32b3e3d5812740b027dff7f9e17fcb136aeeec3859d957b5a4907666"
  },
  "kernelspec": {
   "display_name": "Python 3.9.7 64-bit",
   "language": "python",
   "name": "python3"
  },
  "language_info": {
   "codemirror_mode": {
    "name": "ipython",
    "version": 3
   },
   "file_extension": ".py",
   "mimetype": "text/x-python",
   "name": "python",
   "nbconvert_exporter": "python",
   "pygments_lexer": "ipython3",
   "version": "3.9.7"
  },
  "orig_nbformat": 4
 },
 "nbformat": 4,
 "nbformat_minor": 2
}
