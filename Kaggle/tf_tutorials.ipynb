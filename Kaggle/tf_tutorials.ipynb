{
 "cells": [
  {
   "cell_type": "code",
   "execution_count": null,
   "metadata": {},
   "outputs": [],
   "source": [
    "import os\n",
    "import tensorflow as tf\n",
    "import keras_tuner as kt\n",
    "import tensorflow.keras as keras\n",
    "import numpy as np\n",
    "import matplotlib.pyplot as plt\n",
    "import pandas as pd"
   ]
  },
  {
   "cell_type": "markdown",
   "metadata": {},
   "source": [
    "## MNIST example (quickstart)"
   ]
  },
  {
   "cell_type": "code",
   "execution_count": null,
   "metadata": {},
   "outputs": [],
   "source": [
    "# MNIST example from TensorFlow tutorials\n",
    "mnist = keras.datasets.mnist\n",
    "\n",
    "# Load and scale data\n",
    "(mnist_train_x, mnist_train_y), (mnist_test_x, mnist_test_y) = mnist.load_data()\n",
    "mnist_train_x, mnist_test_x = mnist_train_x / 255.0, mnist_test_x / 255.0\n",
    "\n",
    "# Creat simple NN\n",
    "mnist_model = keras.models.Sequential([\n",
    "  keras.layers.Flatten(input_shape=(28, 28)),\n",
    "  keras.layers.Dense(512, activation='relu'),\n",
    "  keras.layers.Dropout(0.2),\n",
    "  keras.layers.Dense(10)\n",
    "])\n",
    "\n",
    "# Loss function\n",
    "loss_fn = keras.losses.SparseCategoricalCrossentropy(from_logits=True)\n",
    "\n",
    "# Compile model\n",
    "mnist_model.compile(\n",
    "    optimizer=keras.optimizers.Adam(),\n",
    "    loss=loss_fn,\n",
    "    metrics=['accuracy'])\n",
    "\n",
    "# Fit model\n",
    "mnist_history = mnist_model.fit(mnist_train_x, mnist_train_y, epochs=4, verbose=1)\n",
    "\n",
    "# Test model \n",
    "mnist_model.evaluate(mnist_test_x, mnist_test_y)"
   ]
  },
  {
   "cell_type": "markdown",
   "metadata": {},
   "source": [
    "## MPG example (regression)"
   ]
  },
  {
   "cell_type": "code",
   "execution_count": null,
   "metadata": {},
   "outputs": [],
   "source": [
    "# MPG example from TensorFlow tutorials\n",
    "\n",
    "# Make NumPy printouts easier to read.\n",
    "np.set_printoptions(precision=3, suppress=True)\n",
    "\n",
    "# Load dataset, remove rows with missing info\n",
    "url = 'http://archive.ics.uci.edu/ml/machine-learning-databases/auto-mpg/auto-mpg.data'\n",
    "column_names = ['MPG', 'Cylinders', 'Displacement', 'Horsepower', 'Weight',\n",
    "                'Acceleration', 'Model Year', 'Origin']\n",
    "dataset = pd.read_csv(url, names=column_names,\n",
    "                          na_values='?', comment='\\t',\n",
    "                          sep=' ', skipinitialspace=True).dropna()\n",
    "dataset['Origin'] = dataset['Origin'].map({1: 'USA', 2: 'Europe', 3: 'Japan'})\n",
    "\n",
    "# Convert Origin to one-hot\n",
    "dataset = pd.get_dummies(dataset, columns=['Origin'], prefix='', prefix_sep='')\n",
    "\n",
    "# Split train/test and split labels\n",
    "mpg_train_x = dataset.sample(frac=0.8, random_state=0)\n",
    "mpg_test_x = dataset.drop(mpg_train_x.index)\n",
    "mpg_train_y = mpg_train_x.pop('MPG')\n",
    "mpg_test_y = mpg_test_x.pop('MPG')\n",
    "\n",
    "# Scale data\n",
    "mpg_norm = keras.layers.Normalization(axis=-1)\n",
    "mpg_norm.adapt(np.array(mpg_train_x))\n",
    "\n",
    "# Build model\n",
    "def build_and_compile_model(normalization):\n",
    "  model = keras.Sequential([\n",
    "      normalization,\n",
    "      keras.layers.Dense(512, activation='relu', kernel_regularizer=keras.regularizers.l2(0.0001)),\n",
    "      keras.layers.Dropout(0.1),\n",
    "      keras.layers.Dense(512, activation='relu', kernel_regularizer=keras.regularizers.l2(0.0001)),\n",
    "      keras.layers.Dense(1)\n",
    "  ])\n",
    "\n",
    "  model.compile(loss='mean_absolute_error',\n",
    "                optimizer=keras.optimizers.Adam())\n",
    "  return model\n",
    "\n",
    "mpg_model = build_and_compile_model(mpg_norm)\n",
    "\n",
    "# Early stopping\n",
    "callbacks = [\n",
    "  keras.callbacks.EarlyStopping(monitor='val_loss', patience=30),\n",
    "]\n",
    "mpg_model_history = mpg_model.fit(mpg_train_x, mpg_train_y, validation_split=0.1, epochs=1000, callbacks=callbacks, verbose=0)\n",
    "mpg_model.evaluate(mpg_test_x, mpg_test_y, verbose=2)\n",
    "\n",
    "def plot_loss(history):\n",
    "  plt.plot(history.history['loss'], label='loss')\n",
    "  plt.plot(history.history['val_loss'], label='val_loss')\n",
    "  plt.ylim([0, 10])\n",
    "  plt.xlabel('Epoch')\n",
    "  plt.ylabel('Error [MPG]')\n",
    "  plt.legend()\n",
    "  plt.grid(True)\n",
    "\n",
    "plot_loss(mpg_model_history)"
   ]
  },
  {
   "cell_type": "markdown",
   "metadata": {},
   "source": [
    "## Fashion MNIST example (images)"
   ]
  },
  {
   "cell_type": "code",
   "execution_count": null,
   "metadata": {},
   "outputs": [],
   "source": [
    "# Fashion MNIST example TensorFlow tutorials\n",
    "\n",
    "# Load dataset\n",
    "(fashion_train_x, fashion_train_label), (fashion_test_x, fashion_test_label) = keras.datasets.fashion_mnist.load_data()\n",
    "\n",
    "fashion_train_x = fashion_train_x.astype('float32') / 255.0\n",
    "fashion_test_x = fashion_test_x.astype('float32') / 255.0\n",
    "\n",
    "print(f'Total train set length: {len(fashion_train_label)}')\n",
    "# Create a dataset and batch into 1000 \n",
    "fashion_dataset = tf.data.Dataset.from_tensor_slices((fashion_train_x, fashion_train_label))\n",
    "fashion_dataset = fashion_dataset.batch(100, drop_remainder=True)"
   ]
  },
  {
   "cell_type": "code",
   "execution_count": null,
   "metadata": {},
   "outputs": [],
   "source": [
    "class FashionHyperModel(kt.HyperModel):\n",
    "    def build(self, hyperparameters):\n",
    "        # Build model architecture\n",
    "        model = keras.Sequential()\n",
    "        model.add(keras.layers.Flatten())\n",
    "        model.add(keras.layers.Dense(\n",
    "            hyperparameters.Choice('units', values=[32, 64, 128, 256, 512]), \n",
    "            activation='relu'))\n",
    "        model.add(keras.layers.Dense(10))\n",
    "\n",
    "        # Create model\n",
    "        model.compile(\n",
    "            optimizer=keras.optimizers.Nadam(\n",
    "                hyperparameters.Choice('learning_rate', values=[1e-2, 1e-3, 1e-4])),\n",
    "            loss=keras.losses.SparseCategoricalCrossentropy(from_logits=True),\n",
    "            metrics=['accuracy'])\n",
    "\n",
    "        return model\n",
    "\n",
    "# Create tuner\n",
    "tuner = kt.Hyperband(FashionHyperModel(),\n",
    "                     objective='val_accuracy',\n",
    "                     max_epochs=10,\n",
    "                     directory='models',\n",
    "                     project_name='fashion_tutorial',\n",
    "                     factor=3)\n",
    "\n",
    "tuner.reload()"
   ]
  },
  {
   "cell_type": "code",
   "execution_count": null,
   "metadata": {},
   "outputs": [],
   "source": [
    "# Tuning hyperparameters. Does not need to run again if model is saved under models/fashion_tutorial\n",
    "\n",
    "# Early stopping criterion\n",
    "stop_early = tf.keras.callbacks.EarlyStopping(monitor='val_accuracy', patience=4)\n",
    "\n",
    "tuner.search(fashion_train_x, fashion_train_label, epochs=50, validation_split=0.2, callbacks=[stop_early])"
   ]
  },
  {
   "cell_type": "code",
   "execution_count": null,
   "metadata": {},
   "outputs": [],
   "source": [
    "# Get the optimal hyperparameters\n",
    "best_hps = tuner.get_best_hyperparameters(num_trials=1)[0]\n",
    "print(f'Optimal number of units in first Dense() layer is {best_hps.get(\"units\")}')\n",
    "print(f'Optimal learning rate for the optimizer is {best_hps.get(\"learning_rate\")}')\n",
    "\n",
    "# Retrain the model with best hyperparameters\n",
    "hypermodel = tuner.hypermodel.build(best_hps)\n",
    "hypermodel.fit(fashion_train_x, fashion_train_label, epochs=10, validation_split=0.2)\n",
    "\n",
    "# Evaluate on test data\n",
    "eval_result = hypermodel.evaluate(fashion_test_x, fashion_test_label)\n",
    "print(\"[test loss, test accuracy]:\", eval_result)"
   ]
  },
  {
   "cell_type": "markdown",
   "metadata": {},
   "source": [
    "## CIFAR10 example (CNN)"
   ]
  },
  {
   "cell_type": "code",
   "execution_count": null,
   "metadata": {},
   "outputs": [],
   "source": [
    "# Load CIFAR10\n",
    "(cifar_train_images, cifar_train_labels), (cifar_test_images, cifar_test_labels) = keras.datasets.cifar10.load_data()\n",
    "\n",
    "# Normalize pixel values to be between 0 and 1\n",
    "cifar_train_images, cifar_test_images = cifar_train_images / 255.0, cifar_test_images / 255.0"
   ]
  },
  {
   "cell_type": "code",
   "execution_count": null,
   "metadata": {},
   "outputs": [],
   "source": [
    "cifar_model = keras.models.Sequential([\n",
    "    # Input layer indicates image size as height, width, channels (here we have RGB)\n",
    "    keras.layers.InputLayer((32,32,3)),\n",
    "    # Data augmentation layers\n",
    "    keras.layers.RandomFlip(),\n",
    "    keras.layers.RandomRotation(0.1),\n",
    "    keras.layers.RandomZoom(0.1),\n",
    "    # Series of convolutional levels with pooling\n",
    "    keras.layers.Conv2D(filters=32, kernel_size=(3,3), activation='relu'),\n",
    "    keras.layers.MaxPooling2D(pool_size=(2,2)),\n",
    "    # Layers get deeper (more filters), but with smaller 2D matrices in each\n",
    "    keras.layers.Conv2D(filters=64, kernel_size=(3,3), activation='relu'),\n",
    "    keras.layers.MaxPooling2D(pool_size=(2,2)),\n",
    "    keras.layers.Conv2D(filters=128, kernel_size=(3,3), activation='relu'),\n",
    "    # Dropout layer to fight overfitting\n",
    "    keras.layers.Dropout(0.3),\n",
    "    # Flatten at the end to predict final labels\n",
    "    keras.layers.Flatten(),\n",
    "    keras.layers.Dense(128, activation='relu'),\n",
    "    keras.layers.Dense(10)\n",
    "])\n",
    "\n",
    "# cifar_model.summary()\n",
    "\n",
    "cifar_model.compile(optimizer=keras.optimizers.Nadam(),\n",
    "              loss=tf.keras.losses.SparseCategoricalCrossentropy(from_logits=True),\n",
    "              metrics=['accuracy'])\n",
    "\n",
    "cifar_callbacks = [\n",
    "    # Early stopping   \n",
    "    keras.callbacks.EarlyStopping(monitor='val_loss', patience=5),\n",
    "]\n",
    "\n",
    "cifar_history = cifar_model.fit(\n",
    "    cifar_train_images, cifar_train_labels, \n",
    "    epochs=30, verbose=1, batch_size=64,\n",
    "    validation_data=(cifar_test_images, cifar_test_labels))"
   ]
  },
  {
   "cell_type": "code",
   "execution_count": null,
   "metadata": {},
   "outputs": [],
   "source": [
    "def plot_model_history(history, labels=[]):\n",
    "    label_count = len(labels)\n",
    "    if label_count > 0:\n",
    "        fig, axes = plt.subplots(1, label_count, figsize=(4*label_count, 4))\n",
    "        for axis, label in zip(axes, labels):\n",
    "            axis.plot(history.history[label], label=label)\n",
    "            axis.set_xlabel('Epoch')\n",
    "            axis.set_ylabel(label)\n",
    "            axis.grid(True)\n",
    "\n",
    "plot_model_history(cifar_history, ['accuracy', 'loss', 'val_accuracy', 'val_loss'])"
   ]
  }
 ],
 "metadata": {
  "interpreter": {
   "hash": "7beeab9d32b3e3d5812740b027dff7f9e17fcb136aeeec3859d957b5a4907666"
  },
  "kernelspec": {
   "display_name": "Python 3.9.7 64-bit",
   "language": "python",
   "name": "python3"
  },
  "language_info": {
   "codemirror_mode": {
    "name": "ipython",
    "version": 3
   },
   "file_extension": ".py",
   "mimetype": "text/x-python",
   "name": "python",
   "nbconvert_exporter": "python",
   "pygments_lexer": "ipython3",
   "version": "3.9.7"
  },
  "orig_nbformat": 4
 },
 "nbformat": 4,
 "nbformat_minor": 2
}
