{
 "cells": [
  {
   "cell_type": "code",
   "execution_count": 1,
   "metadata": {},
   "outputs": [],
   "source": [
    "import tensorflow.keras as keras\n",
    "import numpy as np\n",
    "import importlib\n",
    "\n",
    "import kaggle_functions as kaggle\n",
    "import model10_wideresnet\n",
    "importlib.reload(kaggle); \n",
    "importlib.reload(model10_wideresnet);\n",
    "from model10_wideresnet import Model\n",
    "\n",
    "model_number = 'model10'"
   ]
  },
  {
   "cell_type": "markdown",
   "metadata": {},
   "source": [
    "### Create datasets"
   ]
  },
  {
   "cell_type": "code",
   "execution_count": 2,
   "metadata": {},
   "outputs": [],
   "source": [
    "complete_dataset, train_dataset, valid_dataset, valid_labels = kaggle.load_train_as_dataset(return_complete_set=True)\n",
    "\n",
    "batch_size = 32\n",
    "train_dataset_augmented, epoch_length = kaggle.augment_dataset(train_dataset, batch_size)"
   ]
  },
  {
   "cell_type": "markdown",
   "metadata": {},
   "source": [
    "### Train new model"
   ]
  },
  {
   "cell_type": "code",
   "execution_count": null,
   "metadata": {},
   "outputs": [],
   "source": [
    "Model().build(None).summary()"
   ]
  },
  {
   "cell_type": "code",
   "execution_count": 33,
   "metadata": {},
   "outputs": [
    {
     "name": "stdout",
     "output_type": "stream",
     "text": [
      "Epoch 1/100\n",
      "298/298 [==============================] - 456s 2s/step - loss: 2.4451 - accuracy: 0.2119 - val_loss: 2.3330 - val_accuracy: 0.2944 - lr: 0.0010\n",
      "Epoch 2/100\n",
      "298/298 [==============================] - 395s 1s/step - loss: 2.2757 - accuracy: 0.2701 - val_loss: 4.2502 - val_accuracy: 0.1686 - lr: 0.0010\n",
      "Epoch 3/100\n",
      "298/298 [==============================] - 356s 1s/step - loss: 2.1978 - accuracy: 0.2965 - val_loss: 3.2866 - val_accuracy: 0.2624 - lr: 0.0010\n",
      "Epoch 4/100\n",
      "298/298 [==============================] - 356s 1s/step - loss: 2.1371 - accuracy: 0.3133 - val_loss: 4.1890 - val_accuracy: 0.1447 - lr: 0.0010\n",
      "Epoch 5/100\n",
      "298/298 [==============================] - 356s 1s/step - loss: 2.1032 - accuracy: 0.3165 - val_loss: 3.6578 - val_accuracy: 0.1829 - lr: 0.0010\n",
      "Epoch 6/100\n",
      "298/298 [==============================] - 356s 1s/step - loss: 2.0426 - accuracy: 0.3369 - val_loss: 2.5483 - val_accuracy: 0.2649 - lr: 0.0010\n",
      "Epoch 7/100\n",
      "298/298 [==============================] - 356s 1s/step - loss: 2.0030 - accuracy: 0.3466 - val_loss: 2.7322 - val_accuracy: 0.2696 - lr: 0.0010\n",
      "Epoch 8/100\n",
      "298/298 [==============================] - 356s 1s/step - loss: 1.9798 - accuracy: 0.3642 - val_loss: 1.9845 - val_accuracy: 0.3478 - lr: 0.0010\n",
      "Epoch 9/100\n",
      "298/298 [==============================] - 356s 1s/step - loss: 1.9382 - accuracy: 0.3690 - val_loss: 2.5643 - val_accuracy: 0.2813 - lr: 0.0010\n",
      "Epoch 10/100\n",
      "298/298 [==============================] - 356s 1s/step - loss: 1.9201 - accuracy: 0.3871 - val_loss: 2.8911 - val_accuracy: 0.2712 - lr: 0.0010\n",
      "Epoch 11/100\n",
      "298/298 [==============================] - 356s 1s/step - loss: 1.9187 - accuracy: 0.3881 - val_loss: 2.2440 - val_accuracy: 0.3377 - lr: 0.0010\n",
      "Epoch 12/100\n",
      "298/298 [==============================] - 356s 1s/step - loss: 1.8922 - accuracy: 0.3973 - val_loss: 2.1100 - val_accuracy: 0.3520 - lr: 0.0010\n",
      "Epoch 13/100\n",
      "298/298 [==============================] - 356s 1s/step - loss: 1.8812 - accuracy: 0.3953 - val_loss: 2.1470 - val_accuracy: 0.2897 - lr: 0.0010\n",
      "Epoch 14/100\n",
      "298/298 [==============================] - 356s 1s/step - loss: 1.8703 - accuracy: 0.4080 - val_loss: 2.0436 - val_accuracy: 0.3415 - lr: 0.0010\n",
      "Epoch 15/100\n",
      "298/298 [==============================] - 356s 1s/step - loss: 1.8511 - accuracy: 0.4100 - val_loss: 2.8331 - val_accuracy: 0.3040 - lr: 0.0010\n",
      "Epoch 16/100\n",
      "298/298 [==============================] - 356s 1s/step - loss: 1.8342 - accuracy: 0.4150 - val_loss: 2.6236 - val_accuracy: 0.2897 - lr: 0.0010\n",
      "Epoch 17/100\n",
      "298/298 [==============================] - 356s 1s/step - loss: 1.8282 - accuracy: 0.4209 - val_loss: 2.2479 - val_accuracy: 0.3246 - lr: 0.0010\n",
      "Epoch 18/100\n",
      "298/298 [==============================] - 356s 1s/step - loss: 1.8213 - accuracy: 0.4251 - val_loss: 3.0657 - val_accuracy: 0.2733 - lr: 0.0010\n",
      "Epoch 19/100\n",
      "298/298 [==============================] - 356s 1s/step - loss: 1.8021 - accuracy: 0.4314 - val_loss: 1.8887 - val_accuracy: 0.3902 - lr: 0.0010\n",
      "Epoch 20/100\n",
      "298/298 [==============================] - 356s 1s/step - loss: 1.7817 - accuracy: 0.4415 - val_loss: 2.3207 - val_accuracy: 0.3532 - lr: 0.0010\n",
      "Epoch 21/100\n",
      "298/298 [==============================] - 356s 1s/step - loss: 1.7635 - accuracy: 0.4534 - val_loss: 2.6834 - val_accuracy: 0.3196 - lr: 0.0010\n",
      "Epoch 22/100\n",
      "298/298 [==============================] - 356s 1s/step - loss: 1.7486 - accuracy: 0.4567 - val_loss: 2.0581 - val_accuracy: 0.4016 - lr: 0.0010\n",
      "Epoch 23/100\n",
      "298/298 [==============================] - 356s 1s/step - loss: 1.7542 - accuracy: 0.4540 - val_loss: 2.0935 - val_accuracy: 0.3696 - lr: 0.0010\n",
      "Epoch 24/100\n",
      "298/298 [==============================] - 356s 1s/step - loss: 1.7095 - accuracy: 0.4728 - val_loss: 1.9979 - val_accuracy: 0.3495 - lr: 0.0010\n",
      "Epoch 25/100\n",
      "298/298 [==============================] - 356s 1s/step - loss: 1.7112 - accuracy: 0.4676 - val_loss: 1.9626 - val_accuracy: 0.4205 - lr: 0.0010\n",
      "Epoch 26/100\n",
      "298/298 [==============================] - 356s 1s/step - loss: 1.6834 - accuracy: 0.4805 - val_loss: 2.9769 - val_accuracy: 0.3209 - lr: 0.0010\n",
      "Epoch 27/100\n",
      "298/298 [==============================] - 356s 1s/step - loss: 1.6668 - accuracy: 0.4926 - val_loss: 1.8537 - val_accuracy: 0.4550 - lr: 0.0010\n",
      "Epoch 28/100\n",
      "298/298 [==============================] - 356s 1s/step - loss: 1.6540 - accuracy: 0.4924 - val_loss: 1.9995 - val_accuracy: 0.4247 - lr: 0.0010\n",
      "Epoch 29/100\n",
      "298/298 [==============================] - 356s 1s/step - loss: 1.6449 - accuracy: 0.4972 - val_loss: 2.8623 - val_accuracy: 0.3339 - lr: 0.0010\n",
      "Epoch 30/100\n",
      "298/298 [==============================] - 356s 1s/step - loss: 1.6284 - accuracy: 0.4971 - val_loss: 1.6192 - val_accuracy: 0.4971 - lr: 0.0010\n",
      "Epoch 31/100\n",
      "298/298 [==============================] - 356s 1s/step - loss: 1.6253 - accuracy: 0.5052 - val_loss: 2.1145 - val_accuracy: 0.4075 - lr: 0.0010\n",
      "Epoch 32/100\n",
      "298/298 [==============================] - 356s 1s/step - loss: 1.6028 - accuracy: 0.5130 - val_loss: 3.0154 - val_accuracy: 0.2990 - lr: 0.0010\n",
      "Epoch 33/100\n",
      "298/298 [==============================] - 356s 1s/step - loss: 1.5796 - accuracy: 0.5159 - val_loss: 1.8522 - val_accuracy: 0.4504 - lr: 0.0010\n",
      "Epoch 34/100\n",
      "298/298 [==============================] - 356s 1s/step - loss: 1.5737 - accuracy: 0.5201 - val_loss: 2.7734 - val_accuracy: 0.2847 - lr: 0.0010\n",
      "Epoch 35/100\n",
      "298/298 [==============================] - 356s 1s/step - loss: 1.5650 - accuracy: 0.5240 - val_loss: 2.1074 - val_accuracy: 0.3650 - lr: 0.0010\n",
      "Epoch 36/100\n",
      "298/298 [==============================] - 356s 1s/step - loss: 1.5624 - accuracy: 0.5254 - val_loss: 2.2971 - val_accuracy: 0.3537 - lr: 0.0010\n",
      "Epoch 37/100\n",
      "298/298 [==============================] - 356s 1s/step - loss: 1.5335 - accuracy: 0.5381 - val_loss: 1.8358 - val_accuracy: 0.4428 - lr: 0.0010\n",
      "Epoch 38/100\n",
      "298/298 [==============================] - 356s 1s/step - loss: 1.5261 - accuracy: 0.5414 - val_loss: 2.0176 - val_accuracy: 0.4230 - lr: 0.0010\n",
      "Epoch 39/100\n",
      "298/298 [==============================] - 356s 1s/step - loss: 1.5101 - accuracy: 0.5439 - val_loss: 1.7794 - val_accuracy: 0.4542 - lr: 0.0010\n",
      "Epoch 40/100\n",
      "298/298 [==============================] - 356s 1s/step - loss: 1.5119 - accuracy: 0.5444 - val_loss: 2.1354 - val_accuracy: 0.4264 - lr: 0.0010\n",
      "Epoch 41/100\n",
      "298/298 [==============================] - 356s 1s/step - loss: 1.5004 - accuracy: 0.5449 - val_loss: 2.0384 - val_accuracy: 0.4281 - lr: 0.0010\n",
      "Epoch 42/100\n",
      "298/298 [==============================] - 356s 1s/step - loss: 1.4801 - accuracy: 0.5562 - val_loss: 1.6826 - val_accuracy: 0.5105 - lr: 0.0010\n",
      "Epoch 43/100\n",
      "298/298 [==============================] - 356s 1s/step - loss: 1.4681 - accuracy: 0.5632 - val_loss: 1.7220 - val_accuracy: 0.4971 - lr: 0.0010\n",
      "Epoch 44/100\n",
      "298/298 [==============================] - 356s 1s/step - loss: 1.4658 - accuracy: 0.5603 - val_loss: 1.6504 - val_accuracy: 0.5008 - lr: 0.0010\n",
      "Epoch 45/100\n",
      "298/298 [==============================] - 356s 1s/step - loss: 1.4566 - accuracy: 0.5604 - val_loss: 2.7032 - val_accuracy: 0.3856 - lr: 0.0010\n",
      "Epoch 46/100\n",
      "298/298 [==============================] - 356s 1s/step - loss: 1.4413 - accuracy: 0.5686 - val_loss: 1.8422 - val_accuracy: 0.4895 - lr: 0.0010\n",
      "Epoch 47/100\n",
      "298/298 [==============================] - 356s 1s/step - loss: 1.4386 - accuracy: 0.5728 - val_loss: 2.6917 - val_accuracy: 0.3448 - lr: 0.0010\n",
      "Epoch 48/100\n",
      "298/298 [==============================] - 356s 1s/step - loss: 1.4374 - accuracy: 0.5740 - val_loss: 1.9893 - val_accuracy: 0.4743 - lr: 0.0010\n",
      "Epoch 49/100\n",
      "298/298 [==============================] - 356s 1s/step - loss: 1.4171 - accuracy: 0.5773 - val_loss: 3.1181 - val_accuracy: 0.2321 - lr: 0.0010\n",
      "Epoch 50/100\n",
      "298/298 [==============================] - 356s 1s/step - loss: 1.3983 - accuracy: 0.5833 - val_loss: 1.5385 - val_accuracy: 0.5505 - lr: 0.0010\n",
      "Epoch 51/100\n",
      "298/298 [==============================] - 356s 1s/step - loss: 1.4004 - accuracy: 0.5845 - val_loss: 2.0623 - val_accuracy: 0.4516 - lr: 0.0010\n",
      "Epoch 52/100\n",
      "298/298 [==============================] - 356s 1s/step - loss: 1.3923 - accuracy: 0.5847 - val_loss: 1.5912 - val_accuracy: 0.5059 - lr: 0.0010\n",
      "Epoch 53/100\n",
      "298/298 [==============================] - 356s 1s/step - loss: 1.3768 - accuracy: 0.5968 - val_loss: 1.4934 - val_accuracy: 0.5736 - lr: 0.0010\n",
      "Epoch 54/100\n",
      "298/298 [==============================] - 356s 1s/step - loss: 1.3706 - accuracy: 0.5964 - val_loss: 2.4022 - val_accuracy: 0.4407 - lr: 0.0010\n",
      "Epoch 55/100\n",
      "298/298 [==============================] - 356s 1s/step - loss: 1.3738 - accuracy: 0.5972 - val_loss: 1.4533 - val_accuracy: 0.5753 - lr: 0.0010\n",
      "Epoch 56/100\n",
      "298/298 [==============================] - 356s 1s/step - loss: 1.3622 - accuracy: 0.6029 - val_loss: 1.5699 - val_accuracy: 0.5606 - lr: 0.0010\n",
      "Epoch 57/100\n",
      "298/298 [==============================] - 356s 1s/step - loss: 1.3484 - accuracy: 0.6127 - val_loss: 4.2699 - val_accuracy: 0.2817 - lr: 0.0010\n",
      "Epoch 58/100\n",
      "298/298 [==============================] - 356s 1s/step - loss: 1.3548 - accuracy: 0.6063 - val_loss: 2.0190 - val_accuracy: 0.4201 - lr: 0.0010\n",
      "Epoch 59/100\n",
      "298/298 [==============================] - 356s 1s/step - loss: 1.3426 - accuracy: 0.6052 - val_loss: 1.8631 - val_accuracy: 0.4979 - lr: 0.0010\n",
      "Epoch 60/100\n",
      "298/298 [==============================] - 356s 1s/step - loss: 1.3423 - accuracy: 0.6096 - val_loss: 2.8728 - val_accuracy: 0.3823 - lr: 0.0010\n",
      "Epoch 61/100\n",
      "298/298 [==============================] - 356s 1s/step - loss: 1.3306 - accuracy: 0.6119 - val_loss: 2.4103 - val_accuracy: 0.4647 - lr: 0.0010\n",
      "Epoch 62/100\n",
      "298/298 [==============================] - 356s 1s/step - loss: 1.3002 - accuracy: 0.6254 - val_loss: 1.9351 - val_accuracy: 0.4260 - lr: 0.0010\n",
      "Epoch 63/100\n",
      "298/298 [==============================] - 356s 1s/step - loss: 1.3067 - accuracy: 0.6243 - val_loss: 1.6033 - val_accuracy: 0.5421 - lr: 0.0010\n",
      "Epoch 64/100\n",
      "298/298 [==============================] - 356s 1s/step - loss: 1.2830 - accuracy: 0.6287 - val_loss: 2.6172 - val_accuracy: 0.3940 - lr: 0.0010\n",
      "Epoch 65/100\n",
      "298/298 [==============================] - 356s 1s/step - loss: 1.3006 - accuracy: 0.6261 - val_loss: 1.8293 - val_accuracy: 0.5038 - lr: 0.0010\n",
      "Epoch 66/100\n",
      "141/298 [=============>................] - ETA: 2:57 - loss: 1.2925 - accuracy: 0.6270Training interrupted\n"
     ]
    }
   ],
   "source": [
    "# Fit model\n",
    "# See {model}.py for specific training instructions, like epochs or valid_patience\n",
    "model_name = 'WideResNet_1'\n",
    "\n",
    "model, history = kaggle.train_model(\n",
    "    Model().build(None), train_dataset_augmented, valid_dataset, \n",
    "    epochs=100, valid_patience=20, epoch_length=epoch_length)"
   ]
  },
  {
   "cell_type": "code",
   "execution_count": null,
   "metadata": {},
   "outputs": [],
   "source": [
    "# Save model\n",
    "model.save(f'models/{model_number}/{model_name}')\n",
    "\n",
    "# Plot model statistics during training\n",
    "kaggle.plot_model_history(history, [['accuracy', 'val_accuracy'], ['loss', 'val_loss']])"
   ]
  },
  {
   "cell_type": "markdown",
   "metadata": {},
   "source": [
    "### Fine-tune"
   ]
  },
  {
   "cell_type": "code",
   "execution_count": null,
   "metadata": {},
   "outputs": [],
   "source": [
    "# Fine-tune model\n",
    "fine_model, history = kaggle.fine_tune_model_filepath(\n",
    "    f'models/{model_number}/DeeperVGG_6_84',\n",
    "    complete_dataset.batch(32), valid_dataset, \n",
    "    epochs=3, learning_rate=0.00001)"
   ]
  },
  {
   "cell_type": "code",
   "execution_count": 11,
   "metadata": {},
   "outputs": [
    {
     "name": "stdout",
     "output_type": "stream",
     "text": [
      "INFO:tensorflow:Assets written to: models/model7/DeeperVGG_7\\assets\n"
     ]
    }
   ],
   "source": [
    "# Save fine-tuned model\n",
    "fine_model_name = 'DeeperVGG_7'\n",
    "fine_model.save(f'models/{model_number}/{fine_model_name}')"
   ]
  },
  {
   "cell_type": "markdown",
   "metadata": {},
   "source": [
    "### Evaluate"
   ]
  },
  {
   "cell_type": "code",
   "execution_count": null,
   "metadata": {},
   "outputs": [],
   "source": [
    "model_name = ''\n",
    "model = keras.models.load_model(f'models/{model_number}/{model_name}')\n",
    "test_pred = np.argmax(model.predict(valid_dataset.batch(128)), axis=1)\n",
    "\n",
    "kaggle.print_accuracy(valid_labels, test_pred)\n",
    "kaggle.plot_confusion_matrix(valid_labels, test_pred)"
   ]
  },
  {
   "cell_type": "markdown",
   "metadata": {},
   "source": [
    "### Generate test predictions"
   ]
  },
  {
   "cell_type": "code",
   "execution_count": null,
   "metadata": {},
   "outputs": [],
   "source": [
    "model_name = ''\n",
    "kaggle.generate_test_pred_filepath(f'models/{model_number}/{model_name}')"
   ]
  },
  {
   "cell_type": "markdown",
   "metadata": {},
   "source": [
    "### Hypertune models"
   ]
  },
  {
   "cell_type": "code",
   "execution_count": null,
   "metadata": {},
   "outputs": [],
   "source": [
    "tuner = kaggle.hypertune_model(\n",
    "    Model(), train_dataset_augmented, valid_dataset, \n",
    "    model_number, 'hypertuner2021-11-30', epochs=200, trials=5)"
   ]
  },
  {
   "cell_type": "code",
   "execution_count": null,
   "metadata": {},
   "outputs": [],
   "source": [
    "tuner = kaggle.load_hypertuner(Model(), model_number, '')"
   ]
  }
 ],
 "metadata": {
  "interpreter": {
   "hash": "7beeab9d32b3e3d5812740b027dff7f9e17fcb136aeeec3859d957b5a4907666"
  },
  "kernelspec": {
   "display_name": "Python 3.9.7 64-bit",
   "language": "python",
   "name": "python3"
  },
  "language_info": {
   "codemirror_mode": {
    "name": "ipython",
    "version": 3
   },
   "file_extension": ".py",
   "mimetype": "text/x-python",
   "name": "python",
   "nbconvert_exporter": "python",
   "pygments_lexer": "ipython3",
   "version": "3.9.7"
  },
  "orig_nbformat": 4
 },
 "nbformat": 4,
 "nbformat_minor": 2
}
