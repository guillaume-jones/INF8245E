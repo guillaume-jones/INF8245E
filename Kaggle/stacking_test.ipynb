{
 "cells": [
  {
   "cell_type": "code",
   "execution_count": null,
   "metadata": {},
   "outputs": [],
   "source": [
    "import tensorflow as tf\n",
    "import tensorflow.keras as keras\n",
    "import numpy as np\n",
    "\n",
    "import kaggle_functions as kaggle\n",
    "import importlib\n",
    "importlib.reload(kaggle);\n",
    "\n",
    "model_number = 'stacking'"
   ]
  },
  {
   "cell_type": "code",
   "execution_count": null,
   "metadata": {},
   "outputs": [],
   "source": [
    "# Create datasets\n",
    "train_dataset, valid_dataset, valid_labels = kaggle.load_train_as_dataset()\n",
    "x_test_real = kaggle.load_test_set()"
   ]
  },
  {
   "cell_type": "code",
   "execution_count": null,
   "metadata": {},
   "outputs": [],
   "source": [
    "filepaths_to_load = {\n",
    "    'model6/VGG_6_79': 0.79,\n",
    "    'model7/DeeperVGG_4_79': 0.79,\n",
    "    'model7/DeeperVGG_6_84': 0.84,\n",
    "    'model8/VGGRes_3_79': 0.79,\n",
    "    'model9/DeeperVGG2_2_84': 0.84\n",
    "}\n",
    "\n",
    "valid_predictions = np.zeros((2378, 11, len(filepaths_to_load)))\n",
    "test_predictions = np.zeros((17831, 11, len(filepaths_to_load)))\n",
    "\n",
    "for index, filepath in enumerate(filepaths_to_load):\n",
    "    print(f'Loading and predicting {filepath}')\n",
    "    model = keras.models.load_model(f'models/{filepath}')\n",
    "    softmax_valid_pred = np.array(tf.nn.softmax(model.predict(valid_dataset.batch(128))))\n",
    "    softmax_test_pred = np.array(tf.nn.softmax(model.predict(x_test_real)))\n",
    "    \n",
    "    valid_predictions[:, :, index] = softmax_valid_pred\n",
    "    test_predictions[:, :, index] = softmax_test_pred"
   ]
  },
  {
   "cell_type": "code",
   "execution_count": null,
   "metadata": {},
   "outputs": [],
   "source": [
    "# Determine best weighting factors (possibly overfitting since we are using valid set for selection)\n",
    "for probability_power in range(2, 15):\n",
    "    for accuracy_power in range(2, 15):\n",
    "        print(f'Prob power:{probability_power}, accuracy power: {accuracy_power}')\n",
    "        adapted_pred = np.power(valid_predictions, probability_power)\n",
    "        for index, accuracy in enumerate(filepaths_to_load.values()):\n",
    "            adapted_pred[:, :, index] *= accuracy**accuracy_power\n",
    "        adapted_pred = np.sum(adapted_pred, axis=2)\n",
    "        adapted_pred = np.argmax(adapted_pred, axis=1)\n",
    "        kaggle.print_accuracy(valid_labels, adapted_pred)"
   ]
  },
  {
   "cell_type": "code",
   "execution_count": null,
   "metadata": {},
   "outputs": [],
   "source": [
    "modified_valid_predictions = np.power(valid_predictions, 3)\n",
    "for index, accuracy in enumerate(filepaths_to_load.values()):\n",
    "    modified_valid_predictions[:, :, index] *= accuracy**8\n",
    "modified_valid_predictions = np.sum(modified_valid_predictions, axis=2)\n",
    "modified_valid_predictions = np.argmax(modified_valid_predictions, axis=1)\n",
    "\n",
    "kaggle.print_accuracy(valid_labels, modified_valid_predictions)\n",
    "kaggle.plot_confusion_matrix(valid_labels, modified_valid_predictions)"
   ]
  },
  {
   "cell_type": "code",
   "execution_count": null,
   "metadata": {},
   "outputs": [],
   "source": [
    "modified_test_predictions = np.power(test_predictions, 3)\n",
    "for index, accuracy in enumerate(filepaths_to_load.values()):\n",
    "    modified_test_predictions[:, :, index] *= accuracy**10\n",
    "modified_test_predictions = np.sum(modified_test_predictions, axis=2)\n",
    "modified_test_predictions = np.argmax(modified_test_predictions, axis=1)\n",
    "kaggle.save_test_pred('models/stacking/basic_stacking_test4.csv', modified_test_predictions)"
   ]
  }
 ],
 "metadata": {
  "interpreter": {
   "hash": "7beeab9d32b3e3d5812740b027dff7f9e17fcb136aeeec3859d957b5a4907666"
  },
  "kernelspec": {
   "display_name": "Python 3.9.7 64-bit",
   "language": "python",
   "name": "python3"
  },
  "language_info": {
   "codemirror_mode": {
    "name": "ipython",
    "version": 3
   },
   "file_extension": ".py",
   "mimetype": "text/x-python",
   "name": "python",
   "nbconvert_exporter": "python",
   "pygments_lexer": "ipython3",
   "version": "3.9.7"
  },
  "orig_nbformat": 4
 },
 "nbformat": 4,
 "nbformat_minor": 2
}
